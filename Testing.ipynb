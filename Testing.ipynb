{
  "nbformat": 4,
  "nbformat_minor": 0,
  "metadata": {
    "kernelspec": {
      "display_name": "Python 3",
      "language": "python",
      "name": "python3"
    },
    "language_info": {
      "codemirror_mode": {
        "name": "ipython",
        "version": 3
      },
      "file_extension": ".py",
      "mimetype": "text/x-python",
      "name": "python",
      "nbconvert_exporter": "python",
      "pygments_lexer": "ipython3",
      "version": "3.6.9"
    },
    "colab": {
      "name": "Testing.ipynb",
      "provenance": [],
      "collapsed_sections": [
        "1j4EhQkJlFu4"
      ],
      "toc_visible": true
    }
  },
  "cells": [
    {
      "cell_type": "code",
      "metadata": {
        "colab": {
          "base_uri": "https://localhost:8080/"
        },
        "id": "G4x9iEHJlcsE",
        "outputId": "2cbc267d-09f3-4163-abef-a27e7ec6044a"
      },
      "source": [
        "!pip uninstall tensorflow"
      ],
      "execution_count": null,
      "outputs": [
        {
          "output_type": "stream",
          "text": [
            "Uninstalling tensorflow-2.3.0:\n",
            "  Would remove:\n",
            "    /usr/local/bin/estimator_ckpt_converter\n",
            "    /usr/local/bin/saved_model_cli\n",
            "    /usr/local/bin/tensorboard\n",
            "    /usr/local/bin/tf_upgrade_v2\n",
            "    /usr/local/bin/tflite_convert\n",
            "    /usr/local/bin/toco\n",
            "    /usr/local/bin/toco_from_protos\n",
            "    /usr/local/lib/python3.6/dist-packages/tensorflow-2.3.0.dist-info/*\n",
            "    /usr/local/lib/python3.6/dist-packages/tensorflow/*\n",
            "Proceed (y/n)? y\n",
            "  Successfully uninstalled tensorflow-2.3.0\n"
          ],
          "name": "stdout"
        }
      ]
    },
    {
      "cell_type": "code",
      "metadata": {
        "colab": {
          "base_uri": "https://localhost:8080/"
        },
        "id": "wW5M0pDulhRZ",
        "outputId": "ae41e728-c3e7-4c87-e1bb-59716327d7ff"
      },
      "source": [
        "!pip install tensorflow==1.13.2"
      ],
      "execution_count": null,
      "outputs": [
        {
          "output_type": "stream",
          "text": [
            "Collecting tensorflow==1.13.2\n",
            "\u001b[?25l  Downloading https://files.pythonhosted.org/packages/db/d3/651f95288a6cd9094f7411cdd90ef12a3d01a268009e0e3cd66b5c8d65bd/tensorflow-1.13.2-cp36-cp36m-manylinux1_x86_64.whl (92.6MB)\n",
            "\u001b[K     |████████████████████████████████| 92.6MB 67kB/s \n",
            "\u001b[?25hRequirement already satisfied: gast>=0.2.0 in /usr/local/lib/python3.6/dist-packages (from tensorflow==1.13.2) (0.3.3)\n",
            "Requirement already satisfied: grpcio>=1.8.6 in /usr/local/lib/python3.6/dist-packages (from tensorflow==1.13.2) (1.33.2)\n",
            "Collecting tensorflow-estimator<1.14.0rc0,>=1.13.0\n",
            "\u001b[?25l  Downloading https://files.pythonhosted.org/packages/bb/48/13f49fc3fa0fdf916aa1419013bb8f2ad09674c275b4046d5ee669a46873/tensorflow_estimator-1.13.0-py2.py3-none-any.whl (367kB)\n",
            "\u001b[K     |████████████████████████████████| 368kB 39.0MB/s \n",
            "\u001b[?25hRequirement already satisfied: keras-preprocessing>=1.0.5 in /usr/local/lib/python3.6/dist-packages (from tensorflow==1.13.2) (1.1.2)\n",
            "Collecting keras-applications>=1.0.6\n",
            "\u001b[?25l  Downloading https://files.pythonhosted.org/packages/71/e3/19762fdfc62877ae9102edf6342d71b28fbfd9dea3d2f96a882ce099b03f/Keras_Applications-1.0.8-py3-none-any.whl (50kB)\n",
            "\u001b[K     |████████████████████████████████| 51kB 5.9MB/s \n",
            "\u001b[?25hRequirement already satisfied: astor>=0.6.0 in /usr/local/lib/python3.6/dist-packages (from tensorflow==1.13.2) (0.8.1)\n",
            "Requirement already satisfied: protobuf>=3.6.1 in /usr/local/lib/python3.6/dist-packages (from tensorflow==1.13.2) (3.12.4)\n",
            "Requirement already satisfied: six>=1.10.0 in /usr/local/lib/python3.6/dist-packages (from tensorflow==1.13.2) (1.15.0)\n",
            "Requirement already satisfied: termcolor>=1.1.0 in /usr/local/lib/python3.6/dist-packages (from tensorflow==1.13.2) (1.1.0)\n",
            "Requirement already satisfied: wheel>=0.26 in /usr/local/lib/python3.6/dist-packages (from tensorflow==1.13.2) (0.35.1)\n",
            "Collecting tensorboard<1.14.0,>=1.13.0\n",
            "\u001b[?25l  Downloading https://files.pythonhosted.org/packages/0f/39/bdd75b08a6fba41f098b6cb091b9e8c7a80e1b4d679a581a0ccd17b10373/tensorboard-1.13.1-py3-none-any.whl (3.2MB)\n",
            "\u001b[K     |████████████████████████████████| 3.2MB 40.7MB/s \n",
            "\u001b[?25hRequirement already satisfied: numpy<2.0,>=1.16.0 in /usr/local/lib/python3.6/dist-packages (from tensorflow==1.13.2) (1.18.5)\n",
            "Requirement already satisfied: absl-py>=0.1.6 in /usr/local/lib/python3.6/dist-packages (from tensorflow==1.13.2) (0.10.0)\n",
            "Collecting mock>=2.0.0\n",
            "  Downloading https://files.pythonhosted.org/packages/cd/74/d72daf8dff5b6566db857cfd088907bb0355f5dd2914c4b3ef065c790735/mock-4.0.2-py3-none-any.whl\n",
            "Requirement already satisfied: h5py in /usr/local/lib/python3.6/dist-packages (from keras-applications>=1.0.6->tensorflow==1.13.2) (2.10.0)\n",
            "Requirement already satisfied: setuptools in /usr/local/lib/python3.6/dist-packages (from protobuf>=3.6.1->tensorflow==1.13.2) (50.3.2)\n",
            "Requirement already satisfied: werkzeug>=0.11.15 in /usr/local/lib/python3.6/dist-packages (from tensorboard<1.14.0,>=1.13.0->tensorflow==1.13.2) (1.0.1)\n",
            "Requirement already satisfied: markdown>=2.6.8 in /usr/local/lib/python3.6/dist-packages (from tensorboard<1.14.0,>=1.13.0->tensorflow==1.13.2) (3.3.3)\n",
            "Requirement already satisfied: importlib-metadata; python_version < \"3.8\" in /usr/local/lib/python3.6/dist-packages (from markdown>=2.6.8->tensorboard<1.14.0,>=1.13.0->tensorflow==1.13.2) (2.0.0)\n",
            "Requirement already satisfied: zipp>=0.5 in /usr/local/lib/python3.6/dist-packages (from importlib-metadata; python_version < \"3.8\"->markdown>=2.6.8->tensorboard<1.14.0,>=1.13.0->tensorflow==1.13.2) (3.4.0)\n",
            "Installing collected packages: mock, tensorflow-estimator, keras-applications, tensorboard, tensorflow\n",
            "  Found existing installation: tensorflow-estimator 2.3.0\n",
            "    Uninstalling tensorflow-estimator-2.3.0:\n",
            "      Successfully uninstalled tensorflow-estimator-2.3.0\n",
            "  Found existing installation: tensorboard 2.3.0\n",
            "    Uninstalling tensorboard-2.3.0:\n",
            "      Successfully uninstalled tensorboard-2.3.0\n",
            "Successfully installed keras-applications-1.0.8 mock-4.0.2 tensorboard-1.13.1 tensorflow-1.13.2 tensorflow-estimator-1.13.0\n"
          ],
          "name": "stdout"
        }
      ]
    },
    {
      "cell_type": "code",
      "metadata": {
        "colab": {
          "base_uri": "https://localhost:8080/"
        },
        "id": "wI0WcNz_8eaQ",
        "outputId": "b2552efc-9a7b-46e8-f021-a1a0152fa220"
      },
      "source": [
        "from google.colab import drive\r\n",
        "drive.mount('/content/drive')"
      ],
      "execution_count": null,
      "outputs": [
        {
          "output_type": "stream",
          "text": [
            "Mounted at /content/drive\n"
          ],
          "name": "stdout"
        }
      ]
    },
    {
      "cell_type": "code",
      "metadata": {
        "colab": {
          "base_uri": "https://localhost:8080/"
        },
        "id": "mN9_EXO68-NA",
        "outputId": "708bcd66-5702-4c01-9244-d6bd75f6f16f"
      },
      "source": [
        "cd drive/MyDrive/CCTV_Model"
      ],
      "execution_count": null,
      "outputs": [
        {
          "output_type": "stream",
          "text": [
            "/content/drive/MyDrive/CCTV_Model\n"
          ],
          "name": "stdout"
        }
      ]
    },
    {
      "cell_type": "code",
      "metadata": {
        "id": "H6LHT8KUlFup",
        "colab": {
          "base_uri": "https://localhost:8080/"
        },
        "outputId": "a10d5dc3-5cda-4e4a-d714-6438985e8ad4"
      },
      "source": [
        "import os\n",
        "import numpy as np\n",
        "import matplotlib.pyplot as plt\n",
        "from datetime import datetime\n",
        "import sklearn.metrics as metrics\n",
        "import tensorflow as tf\n",
        "import pickle\n",
        "import pandas as pd\n",
        "import matplotlib.image as mpimg\n",
        "from network import *\n",
        "from loader import *\n",
        "import glob\n",
        "from utility_functions import *"
      ],
      "execution_count": null,
      "outputs": [
        {
          "output_type": "stream",
          "text": [
            "/usr/local/lib/python3.6/dist-packages/tensorflow/python/framework/dtypes.py:526: FutureWarning: Passing (type, 1) or '1type' as a synonym of type is deprecated; in a future version of numpy, it will be understood as (type, (1,)) / '(1,)type'.\n",
            "  _np_qint8 = np.dtype([(\"qint8\", np.int8, 1)])\n",
            "/usr/local/lib/python3.6/dist-packages/tensorflow/python/framework/dtypes.py:527: FutureWarning: Passing (type, 1) or '1type' as a synonym of type is deprecated; in a future version of numpy, it will be understood as (type, (1,)) / '(1,)type'.\n",
            "  _np_quint8 = np.dtype([(\"quint8\", np.uint8, 1)])\n",
            "/usr/local/lib/python3.6/dist-packages/tensorflow/python/framework/dtypes.py:528: FutureWarning: Passing (type, 1) or '1type' as a synonym of type is deprecated; in a future version of numpy, it will be understood as (type, (1,)) / '(1,)type'.\n",
            "  _np_qint16 = np.dtype([(\"qint16\", np.int16, 1)])\n",
            "/usr/local/lib/python3.6/dist-packages/tensorflow/python/framework/dtypes.py:529: FutureWarning: Passing (type, 1) or '1type' as a synonym of type is deprecated; in a future version of numpy, it will be understood as (type, (1,)) / '(1,)type'.\n",
            "  _np_quint16 = np.dtype([(\"quint16\", np.uint16, 1)])\n",
            "/usr/local/lib/python3.6/dist-packages/tensorflow/python/framework/dtypes.py:530: FutureWarning: Passing (type, 1) or '1type' as a synonym of type is deprecated; in a future version of numpy, it will be understood as (type, (1,)) / '(1,)type'.\n",
            "  _np_qint32 = np.dtype([(\"qint32\", np.int32, 1)])\n",
            "/usr/local/lib/python3.6/dist-packages/tensorflow/python/framework/dtypes.py:535: FutureWarning: Passing (type, 1) or '1type' as a synonym of type is deprecated; in a future version of numpy, it will be understood as (type, (1,)) / '(1,)type'.\n",
            "  np_resource = np.dtype([(\"resource\", np.ubyte, 1)])\n"
          ],
          "name": "stderr"
        }
      ]
    },
    {
      "cell_type": "code",
      "metadata": {
        "id": "PAAzUK90lFur"
      },
      "source": [
        "ph = tf.placeholder('float', [None, None])"
      ],
      "execution_count": null,
      "outputs": []
    },
    {
      "cell_type": "code",
      "metadata": {
        "colab": {
          "base_uri": "https://localhost:8080/"
        },
        "id": "ny8bwbCLlFur",
        "outputId": "c7f94aab-9acf-44fb-c8f8-a171730ef731"
      },
      "source": [
        "output , parameters_1 , parameters_2, parameters_3 = define_network(ph)\n"
      ],
      "execution_count": null,
      "outputs": [
        {
          "output_type": "stream",
          "text": [
            "WARNING:tensorflow:From /usr/local/lib/python3.6/dist-packages/tensorflow/python/framework/op_def_library.py:263: colocate_with (from tensorflow.python.framework.ops) is deprecated and will be removed in a future version.\n",
            "Instructions for updating:\n",
            "Colocations handled automatically by placer.\n",
            "WARNING:tensorflow:From /content/drive/MyDrive/Anomaly-Detection-and-classification-in-surveillance-videos/network.py:24: dropout (from tensorflow.python.layers.core) is deprecated and will be removed in a future version.\n",
            "Instructions for updating:\n",
            "Use keras.layers.dropout instead.\n"
          ],
          "name": "stdout"
        }
      ]
    },
    {
      "cell_type": "code",
      "metadata": {
        "id": "ACdAnN1PlFus"
      },
      "source": [
        "# Initialize and run\n",
        "init = tf.global_variables_initializer()\n",
        "sess = tf.Session()\n",
        "sess.run(init)"
      ],
      "execution_count": null,
      "outputs": []
    },
    {
      "cell_type": "code",
      "metadata": {
        "id": "ZKPrdAMjlFus"
      },
      "source": [
        "saved_model_loader = tf.train.Saver()  # to load model"
      ],
      "execution_count": null,
      "outputs": []
    },
    {
      "cell_type": "code",
      "metadata": {
        "colab": {
          "base_uri": "https://localhost:8080/"
        },
        "id": "WjMdbxTflFus",
        "outputId": "8ec79003-ff23-4987-92b5-1c2a1a8c4f29"
      },
      "source": [
        "saved_model_loader.restore(sess, './model/model')"
      ],
      "execution_count": null,
      "outputs": [
        {
          "output_type": "stream",
          "text": [
            "WARNING:tensorflow:From /usr/local/lib/python3.6/dist-packages/tensorflow/python/training/saver.py:1266: checkpoint_exists (from tensorflow.python.training.checkpoint_management) is deprecated and will be removed in a future version.\n",
            "Instructions for updating:\n",
            "Use standard file APIs to check for files with this prefix.\n",
            "INFO:tensorflow:Restoring parameters from ./model/model\n"
          ],
          "name": "stdout"
        }
      ]
    },
    {
      "cell_type": "code",
      "metadata": {
        "id": "ofbLhE8nlFuu"
      },
      "source": [
        "def detect_anomaly(input_video):\n",
        "    model_output = sess.run(output,feed_dict={ph: input_video})\n",
        "    model_output = model_output.flatten()\n",
        "     # if anomaly score is greater then 0.4 then consider as anomaly \n",
        "    frame = np.where(model_output>0.4)[0]\n",
        "    prediction=0\n",
        "    if model_output.max() > 0.4:\n",
        "        prediction=1\n",
        "    return prediction, frame\n",
        "    "
      ],
      "execution_count": null,
      "outputs": []
    },
    {
      "cell_type": "markdown",
      "metadata": {
        "id": "emd7PMUklFuv"
      },
      "source": [
        "## this section generates data for further classification of video in to (fighting/accident)"
      ]
    },
    {
      "cell_type": "code",
      "metadata": {
        "id": "UiMZ92PzlFuv"
      },
      "source": [
        "data_path_abnormal =\"./data\"\n",
        "anomalous_videos = fetch_videos(\"./data\"+\"/anomaly.txt\")\n"
      ],
      "execution_count": null,
      "outputs": []
    },
    {
      "cell_type": "code",
      "metadata": {
        "id": "KgYgoalwlFuv"
      },
      "source": [
        "class_videos=[]\n",
        "prediction =[] # prediction only for anomaly detection\n",
        "anomalous_frames=[]\n",
        "\n",
        "#video_class\n",
        "for i in range(len(anomalous_videos)):\n",
        "    \n",
        "    video_path=os.path.join(data_path_abnormal,anomalous_videos[i] )\n",
        "    \n",
        "    with open(video_path,'r') as file:\n",
        "        lines = file.read().splitlines()\n",
        "        key=os.path.basename(anomalous_videos[i])\n",
        "        key=os.path.splitext(key)[0]\n",
        "        \n",
        "        if \"Fighting\" in key: # this is for further classification using DNN\n",
        "            class_videos.append(1)\n",
        "        elif \"Road\" in key:\n",
        "            class_videos.append(0)\n",
        "            \n",
        "        features=[]\n",
        "    \n",
        "    for line in lines:\n",
        "        features.append(np.float32(line.split()))\n",
        "    \n",
        "    anomalous, anomaly_location = detect_anomaly(features)\n",
        "    \n",
        "    prediction.append(anomalous)\n",
        "    anomalous_frames.append(anomaly_location)"
      ],
      "execution_count": null,
      "outputs": []
    },
    {
      "cell_type": "code",
      "metadata": {
        "id": "ab6WK9r4lFuv"
      },
      "source": [
        "data_set = open(\"data.pkl\",\"wb\")\n",
        "pickle.dump({\"File_location\":anomalous_videos, \"Anomaly_type\":class_videos, \"anomaly_frames\":anomalous_frames}, data_set)"
      ],
      "execution_count": null,
      "outputs": []
    },
    {
      "cell_type": "markdown",
      "metadata": {
        "id": "rZxHMtd_lFuv"
      },
      "source": [
        "### Anomaly type menas (1:Fighting / 0: Accident) AnomalyFrame contains frame no where anomaly occured. \n",
        "\n",
        "### This Data Set is used for further anomaly type classification "
      ]
    },
    {
      "cell_type": "code",
      "metadata": {
        "colab": {
          "base_uri": "https://localhost:8080/",
          "height": 419
        },
        "id": "8J9t2gcdlFuv",
        "outputId": "c554c80c-3a6c-4e45-eb52-16f731e674fa"
      },
      "source": [
        "pd.DataFrame(zip(anomalous_videos,class_videos,anomalous_frames),columns=['File_location', 'Anomaly_type', 'Anomaly_frame'])"
      ],
      "execution_count": null,
      "outputs": [
        {
          "output_type": "execute_result",
          "data": {
            "text/html": [
              "<div>\n",
              "<style scoped>\n",
              "    .dataframe tbody tr th:only-of-type {\n",
              "        vertical-align: middle;\n",
              "    }\n",
              "\n",
              "    .dataframe tbody tr th {\n",
              "        vertical-align: top;\n",
              "    }\n",
              "\n",
              "    .dataframe thead th {\n",
              "        text-align: right;\n",
              "    }\n",
              "</style>\n",
              "<table border=\"1\" class=\"dataframe\">\n",
              "  <thead>\n",
              "    <tr style=\"text-align: right;\">\n",
              "      <th></th>\n",
              "      <th>File_location</th>\n",
              "      <th>Anomaly_type</th>\n",
              "      <th>Anomaly_frame</th>\n",
              "    </tr>\n",
              "  </thead>\n",
              "  <tbody>\n",
              "    <tr>\n",
              "      <th>0</th>\n",
              "      <td>Anomaly-Videos-Part-2/Fighting/Fighting002_x26...</td>\n",
              "      <td>1</td>\n",
              "      <td>[]</td>\n",
              "    </tr>\n",
              "    <tr>\n",
              "      <th>1</th>\n",
              "      <td>Anomaly-Videos-Part-2/Fighting/Fighting003_x26...</td>\n",
              "      <td>1</td>\n",
              "      <td>[]</td>\n",
              "    </tr>\n",
              "    <tr>\n",
              "      <th>2</th>\n",
              "      <td>Anomaly-Videos-Part-2/Fighting/Fighting004_x26...</td>\n",
              "      <td>1</td>\n",
              "      <td>[]</td>\n",
              "    </tr>\n",
              "    <tr>\n",
              "      <th>3</th>\n",
              "      <td>Anomaly-Videos-Part-2/Fighting/Fighting005_x26...</td>\n",
              "      <td>1</td>\n",
              "      <td>[]</td>\n",
              "    </tr>\n",
              "    <tr>\n",
              "      <th>4</th>\n",
              "      <td>Anomaly-Videos-Part-2/Fighting/Fighting006_x26...</td>\n",
              "      <td>1</td>\n",
              "      <td>[]</td>\n",
              "    </tr>\n",
              "    <tr>\n",
              "      <th>...</th>\n",
              "      <td>...</td>\n",
              "      <td>...</td>\n",
              "      <td>...</td>\n",
              "    </tr>\n",
              "    <tr>\n",
              "      <th>171</th>\n",
              "      <td>Anomaly-Videos-Part-3/RoadAccidents/RoadAccide...</td>\n",
              "      <td>0</td>\n",
              "      <td>[0, 1, 2, 3, 4]</td>\n",
              "    </tr>\n",
              "    <tr>\n",
              "      <th>172</th>\n",
              "      <td>Anomaly-Videos-Part-3/RoadAccidents/RoadAccide...</td>\n",
              "      <td>0</td>\n",
              "      <td>[1, 2, 3, 6, 7, 8, 10]</td>\n",
              "    </tr>\n",
              "    <tr>\n",
              "      <th>173</th>\n",
              "      <td>Anomaly-Videos-Part-3/RoadAccidents/RoadAccide...</td>\n",
              "      <td>0</td>\n",
              "      <td>[4, 5, 6]</td>\n",
              "    </tr>\n",
              "    <tr>\n",
              "      <th>174</th>\n",
              "      <td>Anomaly-Videos-Part-3/RoadAccidents/RoadAccide...</td>\n",
              "      <td>0</td>\n",
              "      <td>[0, 1, 2, 3, 4, 5, 6, 7, 8, 9, 10, 11, 14]</td>\n",
              "    </tr>\n",
              "    <tr>\n",
              "      <th>175</th>\n",
              "      <td>Anomaly-Videos-Part-3/RoadAccidents/RoadAccide...</td>\n",
              "      <td>0</td>\n",
              "      <td>[]</td>\n",
              "    </tr>\n",
              "  </tbody>\n",
              "</table>\n",
              "<p>176 rows × 3 columns</p>\n",
              "</div>"
            ],
            "text/plain": [
              "                                         File_location  ...                               Anomaly_frame\n",
              "0    Anomaly-Videos-Part-2/Fighting/Fighting002_x26...  ...                                          []\n",
              "1    Anomaly-Videos-Part-2/Fighting/Fighting003_x26...  ...                                          []\n",
              "2    Anomaly-Videos-Part-2/Fighting/Fighting004_x26...  ...                                          []\n",
              "3    Anomaly-Videos-Part-2/Fighting/Fighting005_x26...  ...                                          []\n",
              "4    Anomaly-Videos-Part-2/Fighting/Fighting006_x26...  ...                                          []\n",
              "..                                                 ...  ...                                         ...\n",
              "171  Anomaly-Videos-Part-3/RoadAccidents/RoadAccide...  ...                             [0, 1, 2, 3, 4]\n",
              "172  Anomaly-Videos-Part-3/RoadAccidents/RoadAccide...  ...                      [1, 2, 3, 6, 7, 8, 10]\n",
              "173  Anomaly-Videos-Part-3/RoadAccidents/RoadAccide...  ...                                   [4, 5, 6]\n",
              "174  Anomaly-Videos-Part-3/RoadAccidents/RoadAccide...  ...  [0, 1, 2, 3, 4, 5, 6, 7, 8, 9, 10, 11, 14]\n",
              "175  Anomaly-Videos-Part-3/RoadAccidents/RoadAccide...  ...                                          []\n",
              "\n",
              "[176 rows x 3 columns]"
            ]
          },
          "metadata": {
            "tags": []
          },
          "execution_count": 12
        }
      ]
    },
    {
      "cell_type": "code",
      "metadata": {
        "id": "uq9swVuClFuw"
      },
      "source": [
        "data_path_normal=\"./data\"\n",
        "normal_videos = fetch_videos(\"./data\"+\"/anomaly.txt\")"
      ],
      "execution_count": null,
      "outputs": []
    },
    {
      "cell_type": "code",
      "metadata": {
        "id": "WtSdKqaFlFuw"
      },
      "source": [
        "predictions=[]\n",
        "for i in range(len(normal_videos)):\n",
        "    video_path=os.path.join(data_path_normal,normal_videos[i] )\n",
        "    \n",
        "    with open(video_path,'r') as file:\n",
        "        lines = file.read().splitlines()\n",
        "    features=[]\n",
        "    \n",
        "    for line in lines:\n",
        "        features.append(np.float32(line.split()))\n",
        "        \n",
        "    model_output, _ =detect_anomaly(features)\n",
        "    \n",
        "    predictions.append(model_output)\n",
        "    "
      ],
      "execution_count": null,
      "outputs": []
    },
    {
      "cell_type": "code",
      "metadata": {
        "id": "BFWJ3emYlFuw"
      },
      "source": [
        "true_positives=np.array([1]*176)\n",
        "true_negatives=np.array([0]*176)"
      ],
      "execution_count": null,
      "outputs": []
    },
    {
      "cell_type": "code",
      "metadata": {
        "id": "2nz7KvSKlFuw"
      },
      "source": [
        "actual=np.hstack((true_positives,true_negatives))"
      ],
      "execution_count": null,
      "outputs": []
    },
    {
      "cell_type": "code",
      "metadata": {
        "id": "Q5SLEbU-lFuw"
      },
      "source": [
        "final_predictions=np.hstack((np.array(prediction),np.array(predictions)))"
      ],
      "execution_count": null,
      "outputs": []
    },
    {
      "cell_type": "code",
      "metadata": {
        "id": "oaSoIpItlFuw"
      },
      "source": [
        "false_positive_rate, true_positive_rate, threshold = metrics.roc_curve(actual, final_predictions)\n",
        "roc_auc = metrics.auc(false_positive_rate, true_positive_rate)"
      ],
      "execution_count": null,
      "outputs": []
    },
    {
      "cell_type": "code",
      "metadata": {
        "colab": {
          "base_uri": "https://localhost:8080/"
        },
        "id": "awv3twfFlFuw",
        "outputId": "389e524c-bbb8-47df-96cf-805245941f55"
      },
      "source": [
        "metrics.confusion_matrix(actual,final_predictions)"
      ],
      "execution_count": null,
      "outputs": [
        {
          "output_type": "execute_result",
          "data": {
            "text/plain": [
              "array([[ 76, 100],\n",
              "       [ 76, 100]])"
            ]
          },
          "metadata": {
            "tags": []
          },
          "execution_count": 19
        }
      ]
    },
    {
      "cell_type": "code",
      "metadata": {
        "colab": {
          "base_uri": "https://localhost:8080/",
          "height": 295
        },
        "id": "URNvttfAlFuw",
        "outputId": "1342c24b-3db1-4225-fb15-e272e084905c"
      },
      "source": [
        "plt.title('Receiver Operating Characteristic')\n",
        "plt.plot(false_positive_rate, true_positive_rate, 'b', label = 'AUC = %0.2f' % roc_auc)\n",
        "plt.legend(loc = 'lower right')\n",
        "plt.plot([0, 1], [0, 1],'r--')\n",
        "plt.xlim([0, 1])\n",
        "plt.ylim([0, 1])\n",
        "plt.ylabel('True Positive Rate')\n",
        "plt.xlabel('False Positive Rate')\n",
        "plt.show()"
      ],
      "execution_count": null,
      "outputs": [
        {
          "output_type": "display_data",
          "data": {
            "image/png": "[encoded data removed]",
            "text/plain": [
              "<Figure size 432x288 with 1 Axes>"
            ]
          },
          "metadata": {
            "tags": [],
            "needs_background": "light"
          }
        }
      ]
    },
    {
      "cell_type": "markdown",
      "metadata": {
        "id": "88dEqIKDlFuw"
      },
      "source": [
        "## Video Visualization"
      ]
    },
    {
      "cell_type": "code",
      "metadata": {
        "id": "7jEUoMcIlFux"
      },
      "source": [
        "def detect_anomalous_segment(input_video,input_video_name):\n",
        "    max_processing_sec = 599\n",
        "    frame_increase=16\n",
        "    num_frames = 16\n",
        "    start_frame = 1\n",
        "    \n",
        "    frame_count,frame_rate=count_frames(input_video)\n",
        "    \n",
        "    end_frame = min(frame_count, int(max_processing_sec * frame_rate)) -num_frames\n",
        "    \n",
        "    features = extract_video_features(input_video_name,\"./data\")\n",
        "    model_output=sess.run(output,feed_dict={ph: features})\n",
        "    \n",
        "    start_frames=list(range(start_frame, end_frame, frame_increase))\n",
        "    \n",
        "    frame_bin=np.round(np.linspace(1, len(start_frames), num=33))\n",
        "    \n",
        "    model_output=model_output.flatten()\n",
        "    predicted=np.where(model_output>0.4)[0]\n",
        "    \n",
        "    video_segments=[]\n",
        "    i=0\n",
        "\n",
        "    \n",
        "    while(i<len(predicted)-1):\n",
        "        segment_start=frame_bin[predicted[i]]*16\n",
        "        if (predicted[i+1] - predicted[i] ==1):\n",
        "            while(i<len(predicted)-1 and predicted[i+1]-predicted[i]==1):\n",
        "                i +=1\n",
        "            segment_end=frame_bin[predicted[i]]*16+16\n",
        "        else:\n",
        "            i += 1\n",
        "            segment_end=segment_start+16\n",
        "        video_segments.append([segment_start,segment_end])\n",
        "        \n",
        "    video_map=frame_bin[predicted]*16\n",
        "    return video_segments,video_map,model_output "
      ],
      "execution_count": null,
      "outputs": []
    },
    {
      "cell_type": "code",
      "metadata": {
        "id": "PVYBmCvMlFux"
      },
      "source": [
        "def get_anomalous_segment_from_video(input_video,input_video_name,output_dir):\n",
        "    video_segments, video_map, model_output=detect_anomalous_segment(input_video,input_video_name)\n",
        "    \n",
        "    #path to store Video segment\n",
        "    path = os.path.join(output_dir,input_video_name)\n",
        "    os.makedirs(path, exist_ok=True)\n",
        "    \n",
        "    for start, end in video_segments:\n",
        "        num_frames = int(end-start)\n",
        "        get_video_frames(input_video,start,path,num_frames)\n",
        "     \n",
        "    output_video=os.path.join(path,input_video_name)\n",
        "    if len(video_segments)>0:\n",
        "        generate_video_from_image(path,output_video+\".avi\")\n",
        "    \n",
        "    return video_map, model_output"
      ],
      "execution_count": null,
      "outputs": []
    },
    {
      "cell_type": "markdown",
      "metadata": {
        "id": "sbdpM25AlFux"
      },
      "source": [
        "## generating video for RoadAccident "
      ]
    },
    {
      "cell_type": "markdown",
      "metadata": {
        "id": "-R0Emqb3lFux"
      },
      "source": [
        "## This solution also includes video and images where exact anomaly happened "
      ]
    },
    {
      "cell_type": "code",
      "metadata": {
        "id": "L-1M6kIVlFux"
      },
      "source": [
        "input_video_path=\"/content/Fighting004_x264.mp4\"\n",
        "anomalous_frames, model_output=get_anomalous_segment_from_video(input_video_path,\"RoadAccidents095_x264\",\"./frames\")"
      ],
      "execution_count": null,
      "outputs": []
    },
    {
      "cell_type": "code",
      "metadata": {
        "id": "2uPHUlEglFux",
        "colab": {
          "base_uri": "https://localhost:8080/",
          "height": 296
        },
        "outputId": "4c110026-cd8c-4081-ed2d-c24600e99b49"
      },
      "source": [
        "plt.plot(model_output)\n",
        "plt.ylabel('Regression value Between 1 and 0')\n",
        "plt.xlabel('Prediction in 32 embedded frames')"
      ],
      "execution_count": null,
      "outputs": [
        {
          "output_type": "execute_result",
          "data": {
            "text/plain": [
              "Text(0.5, 0, 'Prediction in 32 embedded frames')"
            ]
          },
          "metadata": {
            "tags": []
          },
          "execution_count": 27
        },
        {
          "output_type": "display_data",
          "data": {
            "image/png": "[encoded data removed]",
            "text/plain": [
              "<Figure size 432x288 with 1 Axes>"
            ]
          },
          "metadata": {
            "tags": [],
            "needs_background": "light"
          }
        }
      ]
    },
    {
      "cell_type": "markdown",
      "metadata": {
        "id": "w3iuGQrflFuy"
      },
      "source": [
        "### The plot above shows anomaly in video so what are the frames where anomaly occured"
      ]
    },
    {
      "cell_type": "markdown",
      "metadata": {
        "id": "RdHns4P9lFuy"
      },
      "source": [
        "# generating video for fight"
      ]
    },
    {
      "cell_type": "code",
      "metadata": {
        "id": "VOoM3ab9lFuy"
      },
      "source": [
        "input_video_path=\"/content/Fighting004_x264.mp4\"\n",
        "anomalous_frames, model_output=get_anomalous_segment_from_video(input_video_path,\"Fighting032_x264\",\"./frames\")"
      ],
      "execution_count": null,
      "outputs": []
    },
    {
      "cell_type": "code",
      "metadata": {
        "id": "yTZQeRWzlFuz",
        "colab": {
          "base_uri": "https://localhost:8080/",
          "height": 296
        },
        "outputId": "135ce469-c841-4cc5-8e73-a478a67d729e"
      },
      "source": [
        "plt.plot(model_output)\n",
        "plt.ylabel('Regression value Between 1 and 0')\n",
        "plt.xlabel('Prediction in 32 embedded frames')"
      ],
      "execution_count": null,
      "outputs": [
        {
          "output_type": "execute_result",
          "data": {
            "text/plain": [
              "Text(0.5, 0, 'Prediction in 32 embedded frames')"
            ]
          },
          "metadata": {
            "tags": []
          },
          "execution_count": 31
        },
        {
          "output_type": "display_data",
          "data": {
            "image/png": "[encoded data removed]",
            "text/plain": [
              "<Figure size 432x288 with 1 Axes>"
            ]
          },
          "metadata": {
            "tags": [],
            "needs_background": "light"
          }
        }
      ]
    },
    {
      "cell_type": "markdown",
      "metadata": {
        "id": "bX49t3fxlFu0"
      },
      "source": [
        "## Normal Videos are predicted as 0 "
      ]
    },
    {
      "cell_type": "markdown",
      "metadata": {
        "id": "OJWQSkjRlFu3"
      },
      "source": [
        "## Some Testing examples"
      ]
    },
    {
      "cell_type": "code",
      "metadata": {
        "id": "rVYwpiEalFu3"
      },
      "source": [
        "normal_features = get_test_data_normal() # load test data set is some  just test normal videos "
      ],
      "execution_count": null,
      "outputs": []
    },
    {
      "cell_type": "code",
      "metadata": {
        "id": "JO-pjDc7lFu3",
        "colab": {
          "base_uri": "https://localhost:8080/"
        },
        "outputId": "e78e6052-9287-4122-866b-52a5798db120"
      },
      "source": [
        "print(normal_features.shape) "
      ],
      "execution_count": null,
      "outputs": [
        {
          "output_type": "stream",
          "text": [
            "(4320, 4096)\n"
          ],
          "name": "stdout"
        }
      ]
    },
    {
      "cell_type": "code",
      "metadata": {
        "id": "9e6G5zKDlFu4"
      },
      "source": [
        "model_output = sess.run(output,feed_dict={ph: normal_features})"
      ],
      "execution_count": null,
      "outputs": []
    },
    {
      "cell_type": "code",
      "metadata": {
        "id": "sO6cFbSHlFu4"
      },
      "source": [
        "model_output=model_output.flatten()"
      ],
      "execution_count": null,
      "outputs": []
    },
    {
      "cell_type": "code",
      "metadata": {
        "id": "cRLDvGYAlFu4"
      },
      "source": [
        "false_predictions=(model_output>0.4).sum()"
      ],
      "execution_count": null,
      "outputs": []
    },
    {
      "cell_type": "markdown",
      "metadata": {
        "id": "1j4EhQkJlFu4"
      },
      "source": [
        "### Total 4320 normal frames "
      ]
    },
    {
      "cell_type": "markdown",
      "metadata": {
        "id": "OoeUXjIClFu4"
      },
      "source": [
        "# False Positive rate"
      ]
    },
    {
      "cell_type": "code",
      "metadata": {
        "id": "jPaFch87lFu4"
      },
      "source": [
        "false_positive_rate=false_predictions/normal_features.shape[0]"
      ],
      "execution_count": null,
      "outputs": []
    },
    {
      "cell_type": "code",
      "metadata": {
        "id": "ihpRQl2AlFu4",
        "colab": {
          "base_uri": "https://localhost:8080/"
        },
        "outputId": "98354a9f-67e4-4fd9-f0b3-0c980b8bf1ca"
      },
      "source": [
        "print(false_positive_rate)"
      ],
      "execution_count": null,
      "outputs": [
        {
          "output_type": "stream",
          "text": [
            "0.09745370370370371\n"
          ],
          "name": "stdout"
        }
      ]
    }
  ]
}